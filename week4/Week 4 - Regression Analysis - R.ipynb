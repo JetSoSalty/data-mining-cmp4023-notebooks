{
 "cells": [
  {
   "cell_type": "markdown",
   "metadata": {},
   "source": [
    "# Data Warehousing and Data Mining\n",
    "\n",
    "## Labs\n",
    "\n",
    "### Prepared by Gilroy Gordon\n",
    "\n",
    "#### Contact Information\n",
    "\n",
    "SCIT ext. 3643\n",
    "\n",
    "ggordonutech@gmail.com\n",
    "\n",
    "gilroy.gordon@utech.edu.jm"
   ]
  },
  {
   "cell_type": "markdown",
   "metadata": {},
   "source": [
    "### Week 4 - Regression Analysis in R\n",
    "\n",
    "\n",
    "Additional Reference Resources:\n",
    "\n",
    "\n",
    "\n",
    "Objectives\n",
    "----\n",
    "---\n",
    "     \n",
    "     > Data Transformation\n",
    "     > Data Mining\n",
    "          > Linear Regression\n",
    "          > Logistic Regression\n",
    "          > Non-Linear Regression\n",
    "     > Model Evaluation and Prediction\n",
    "          > Train/Test Split - 70/30\n",
    "     > Presentation\n",
    "          > Scatter Plot\n",
    "          > Q-Q Plots\n",
    "    "
   ]
  },
  {
   "cell_type": "code",
   "execution_count": 2,
   "metadata": {},
   "outputs": [
    {
     "data": {
      "text/html": [
       "<table>\n",
       "<thead><tr><th scope=col>Income Range</th><th scope=col>Magazine Promo</th><th scope=col>Watch Promo</th><th scope=col>Life Ins Promo</th><th scope=col>Credit Card Ins.</th><th scope=col>Sex</th><th scope=col>Age</th></tr></thead>\n",
       "<tbody>\n",
       "\t<tr><td>40-50,000</td><td>Yes      </td><td>No       </td><td>No       </td><td>No       </td><td>Male     </td><td>45       </td></tr>\n",
       "\t<tr><td>30-40,000</td><td>Yes      </td><td>Yes      </td><td>Yes      </td><td>No       </td><td>Female   </td><td>40       </td></tr>\n",
       "\t<tr><td>40-50,000</td><td>No       </td><td>No       </td><td>No       </td><td>No       </td><td>Male     </td><td>42       </td></tr>\n",
       "\t<tr><td>30-40,000</td><td>Yes      </td><td>Yes      </td><td>Yes      </td><td>Yes      </td><td>Male     </td><td>43       </td></tr>\n",
       "\t<tr><td>50-60,000</td><td>Yes      </td><td>No       </td><td>Yes      </td><td>No       </td><td>Female   </td><td>38       </td></tr>\n",
       "\t<tr><td>20-30,000</td><td>No       </td><td>No       </td><td>No       </td><td>No       </td><td>Female   </td><td>55       </td></tr>\n",
       "\t<tr><td>30-40,000</td><td>Yes      </td><td>No       </td><td>Yes      </td><td>Yes      </td><td>Male     </td><td>35       </td></tr>\n",
       "\t<tr><td>20-30,000</td><td>No       </td><td>Yes      </td><td>No       </td><td>No       </td><td>Male     </td><td>27       </td></tr>\n",
       "\t<tr><td>30-40,000</td><td>Yes      </td><td>No       </td><td>No       </td><td>No       </td><td>Male     </td><td>43       </td></tr>\n",
       "\t<tr><td>30-40,000</td><td>Yes      </td><td>Yes      </td><td>Yes      </td><td>No       </td><td>Female   </td><td>41       </td></tr>\n",
       "\t<tr><td>40-50,000</td><td>No       </td><td>Yes      </td><td>Yes      </td><td>No       </td><td>Female   </td><td>43       </td></tr>\n",
       "\t<tr><td>20-30,000</td><td>No       </td><td>Yes      </td><td>Yes      </td><td>No       </td><td>Male     </td><td>29       </td></tr>\n",
       "\t<tr><td>50-60,000</td><td>Yes      </td><td>Yes      </td><td>Yes      </td><td>No       </td><td>Female   </td><td>39       </td></tr>\n",
       "\t<tr><td>40-50,000</td><td>No       </td><td>Yes      </td><td>No       </td><td>No       </td><td>Male     </td><td>55       </td></tr>\n",
       "\t<tr><td>20-30,000</td><td>No       </td><td>No       </td><td>Yes      </td><td>Yes      </td><td>Female   </td><td>19       </td></tr>\n",
       "</tbody>\n",
       "</table>\n"
      ],
      "text/latex": [
       "\\begin{tabular}{r|lllllll}\n",
       " Income Range & Magazine Promo & Watch Promo & Life Ins Promo & Credit Card Ins. & Sex & Age\\\\\n",
       "\\hline\n",
       "\t 40-50,000 & Yes       & No        & No        & No        & Male      & 45       \\\\\n",
       "\t 30-40,000 & Yes       & Yes       & Yes       & No        & Female    & 40       \\\\\n",
       "\t 40-50,000 & No        & No        & No        & No        & Male      & 42       \\\\\n",
       "\t 30-40,000 & Yes       & Yes       & Yes       & Yes       & Male      & 43       \\\\\n",
       "\t 50-60,000 & Yes       & No        & Yes       & No        & Female    & 38       \\\\\n",
       "\t 20-30,000 & No        & No        & No        & No        & Female    & 55       \\\\\n",
       "\t 30-40,000 & Yes       & No        & Yes       & Yes       & Male      & 35       \\\\\n",
       "\t 20-30,000 & No        & Yes       & No        & No        & Male      & 27       \\\\\n",
       "\t 30-40,000 & Yes       & No        & No        & No        & Male      & 43       \\\\\n",
       "\t 30-40,000 & Yes       & Yes       & Yes       & No        & Female    & 41       \\\\\n",
       "\t 40-50,000 & No        & Yes       & Yes       & No        & Female    & 43       \\\\\n",
       "\t 20-30,000 & No        & Yes       & Yes       & No        & Male      & 29       \\\\\n",
       "\t 50-60,000 & Yes       & Yes       & Yes       & No        & Female    & 39       \\\\\n",
       "\t 40-50,000 & No        & Yes       & No        & No        & Male      & 55       \\\\\n",
       "\t 20-30,000 & No        & No        & Yes       & Yes       & Female    & 19       \\\\\n",
       "\\end{tabular}\n"
      ],
      "text/markdown": [
       "\n",
       "Income Range | Magazine Promo | Watch Promo | Life Ins Promo | Credit Card Ins. | Sex | Age | \n",
       "|---|---|---|---|---|---|---|---|---|---|---|---|---|---|---|\n",
       "| 40-50,000 | Yes       | No        | No        | No        | Male      | 45        | \n",
       "| 30-40,000 | Yes       | Yes       | Yes       | No        | Female    | 40        | \n",
       "| 40-50,000 | No        | No        | No        | No        | Male      | 42        | \n",
       "| 30-40,000 | Yes       | Yes       | Yes       | Yes       | Male      | 43        | \n",
       "| 50-60,000 | Yes       | No        | Yes       | No        | Female    | 38        | \n",
       "| 20-30,000 | No        | No        | No        | No        | Female    | 55        | \n",
       "| 30-40,000 | Yes       | No        | Yes       | Yes       | Male      | 35        | \n",
       "| 20-30,000 | No        | Yes       | No        | No        | Male      | 27        | \n",
       "| 30-40,000 | Yes       | No        | No        | No        | Male      | 43        | \n",
       "| 30-40,000 | Yes       | Yes       | Yes       | No        | Female    | 41        | \n",
       "| 40-50,000 | No        | Yes       | Yes       | No        | Female    | 43        | \n",
       "| 20-30,000 | No        | Yes       | Yes       | No        | Male      | 29        | \n",
       "| 50-60,000 | Yes       | Yes       | Yes       | No        | Female    | 39        | \n",
       "| 40-50,000 | No        | Yes       | No        | No        | Male      | 55        | \n",
       "| 20-30,000 | No        | No        | Yes       | Yes       | Female    | 19        | \n",
       "\n",
       "\n"
      ],
      "text/plain": [
       "   Income Range Magazine Promo Watch Promo Life Ins Promo Credit Card Ins.\n",
       "1  40-50,000    Yes            No          No             No              \n",
       "2  30-40,000    Yes            Yes         Yes            No              \n",
       "3  40-50,000    No             No          No             No              \n",
       "4  30-40,000    Yes            Yes         Yes            Yes             \n",
       "5  50-60,000    Yes            No          Yes            No              \n",
       "6  20-30,000    No             No          No             No              \n",
       "7  30-40,000    Yes            No          Yes            Yes             \n",
       "8  20-30,000    No             Yes         No             No              \n",
       "9  30-40,000    Yes            No          No             No              \n",
       "10 30-40,000    Yes            Yes         Yes            No              \n",
       "11 40-50,000    No             Yes         Yes            No              \n",
       "12 20-30,000    No             Yes         Yes            No              \n",
       "13 50-60,000    Yes            Yes         Yes            No              \n",
       "14 40-50,000    No             Yes         No             No              \n",
       "15 20-30,000    No             No          Yes            Yes             \n",
       "   Sex    Age\n",
       "1  Male   45 \n",
       "2  Female 40 \n",
       "3  Male   42 \n",
       "4  Male   43 \n",
       "5  Female 38 \n",
       "6  Female 55 \n",
       "7  Male   35 \n",
       "8  Male   27 \n",
       "9  Male   43 \n",
       "10 Female 41 \n",
       "11 Female 43 \n",
       "12 Male   29 \n",
       "13 Female 39 \n",
       "14 Male   55 \n",
       "15 Female 19 "
      ]
     },
     "metadata": {},
     "output_type": "display_data"
    }
   ],
   "source": [
    "my.data =  read.csv('./data/Creditcardprom.csv',header=TRUE,check.names=FALSE) # read data from the first sheet \n",
    "my.data"
   ]
  },
  {
   "cell_type": "code",
   "execution_count": 5,
   "metadata": {},
   "outputs": [
    {
     "data": {
      "text/plain": [
       "\n",
       "Call:\n",
       "lm(formula = Age ~ `Income Range` + `Magazine Promo` + `Watch Promo` + \n",
       "    `Life Ins Promo` + `Credit Card Ins.` + Sex, data = my.data)\n",
       "\n",
       "Coefficients:\n",
       "            (Intercept)  `Income Range`30-40,000  `Income Range`40-50,000  \n",
       "                41.1358                  14.1124                  12.5386  \n",
       "`Income Range`50-60,000      `Magazine Promo`Yes         `Watch Promo`Yes  \n",
       "                11.2295                  -1.7588                   3.2763  \n",
       "    `Life Ins Promo`Yes    `Credit Card Ins.`Yes                  SexMale  \n",
       "               -13.7447                   0.2248                  -6.9157  \n"
      ]
     },
     "metadata": {},
     "output_type": "display_data"
    }
   ],
   "source": [
    "reg = lm(`Age` ~ `Income Range` + `Magazine Promo` + `Watch Promo` + `Life Ins Promo` + `Credit Card Ins.`+`Sex`,\n",
    "         data=my.data) # build the model\n",
    "reg"
   ]
  },
  {
   "cell_type": "code",
   "execution_count": 6,
   "metadata": {},
   "outputs": [
    {
     "data": {
      "text/plain": [
       "\n",
       "Call:\n",
       "lm(formula = Age ~ `Income Range` + `Magazine Promo` + `Watch Promo` + \n",
       "    `Life Ins Promo` + `Credit Card Ins.` + Sex, data = my.data)\n",
       "\n",
       "Residuals:\n",
       "     Min       1Q   Median       3Q      Max \n",
       "-10.4965  -3.2974  -0.2061   3.4555  13.8642 \n",
       "\n",
       "Coefficients:\n",
       "                        Estimate Std. Error t value Pr(>|t|)   \n",
       "(Intercept)              41.1358     7.1774   5.731  0.00122 **\n",
       "`Income Range`30-40,000  14.1124    13.4316   1.051  0.33387   \n",
       "`Income Range`40-50,000  12.5386     7.4620   1.680  0.14389   \n",
       "`Income Range`50-60,000  11.2295    15.0835   0.744  0.48471   \n",
       "`Magazine Promo`Yes      -1.7588    11.5672  -0.152  0.88413   \n",
       "`Watch Promo`Yes          3.2763     6.4671   0.507  0.63050   \n",
       "`Life Ins Promo`Yes     -13.7447     9.2087  -1.493  0.18615   \n",
       "`Credit Card Ins.`Yes     0.2248     9.3598   0.024  0.98162   \n",
       "SexMale                  -6.9157     6.8149  -1.015  0.34936   \n",
       "---\n",
       "Signif. codes:  0 ‘***’ 0.001 ‘**’ 0.01 ‘*’ 0.05 ‘.’ 0.1 ‘ ’ 1\n",
       "\n",
       "Residual standard error: 9.384 on 6 degrees of freedom\n",
       "Multiple R-squared:  0.5825,\tAdjusted R-squared:  0.02589 \n",
       "F-statistic: 1.047 on 8 and 6 DF,  p-value: 0.4919\n"
      ]
     },
     "metadata": {},
     "output_type": "display_data"
    }
   ],
   "source": [
    "summary(reg)"
   ]
  },
  {
   "cell_type": "code",
   "execution_count": 7,
   "metadata": {},
   "outputs": [
    {
     "data": {
      "text/html": [
       "<dl class=dl-horizontal>\n",
       "\t<dt>(Intercept)</dt>\n",
       "\t\t<dd>41.135831381733</dd>\n",
       "\t<dt>`Income Range`30-40,000</dt>\n",
       "\t\t<dd>14.112412177986</dd>\n",
       "\t<dt>`Income Range`40-50,000</dt>\n",
       "\t\t<dd>12.5386416861827</dd>\n",
       "\t<dt>`Income Range`50-60,000</dt>\n",
       "\t\t<dd>11.2295081967213</dd>\n",
       "\t<dt>`Magazine Promo`Yes</dt>\n",
       "\t\t<dd>-1.75878220140518</dd>\n",
       "\t<dt>`Watch Promo`Yes</dt>\n",
       "\t\t<dd>3.27634660421546</dd>\n",
       "\t<dt>`Life Ins Promo`Yes</dt>\n",
       "\t\t<dd>-13.7447306791569</dd>\n",
       "\t<dt>`Credit Card Ins.`Yes</dt>\n",
       "\t\t<dd>0.224824355971896</dd>\n",
       "\t<dt>SexMale</dt>\n",
       "\t\t<dd>-6.91569086651054</dd>\n",
       "</dl>\n"
      ],
      "text/latex": [
       "\\begin{description*}\n",
       "\\item[(Intercept)] 41.135831381733\n",
       "\\item[`Income Range`30-40,000] 14.112412177986\n",
       "\\item[`Income Range`40-50,000] 12.5386416861827\n",
       "\\item[`Income Range`50-60,000] 11.2295081967213\n",
       "\\item[`Magazine Promo`Yes] -1.75878220140518\n",
       "\\item[`Watch Promo`Yes] 3.27634660421546\n",
       "\\item[`Life Ins Promo`Yes] -13.7447306791569\n",
       "\\item[`Credit Card Ins.`Yes] 0.224824355971896\n",
       "\\item[SexMale] -6.91569086651054\n",
       "\\end{description*}\n"
      ],
      "text/markdown": [
       "(Intercept)\n",
       ":   41.135831381733`Income Range`30-40,000\n",
       ":   14.112412177986`Income Range`40-50,000\n",
       ":   12.5386416861827`Income Range`50-60,000\n",
       ":   11.2295081967213`Magazine Promo`Yes\n",
       ":   -1.75878220140518`Watch Promo`Yes\n",
       ":   3.27634660421546`Life Ins Promo`Yes\n",
       ":   -13.7447306791569`Credit Card Ins.`Yes\n",
       ":   0.224824355971896SexMale\n",
       ":   -6.91569086651054\n",
       "\n"
      ],
      "text/plain": [
       "            (Intercept) `Income Range`30-40,000 `Income Range`40-50,000 \n",
       "             41.1358314              14.1124122              12.5386417 \n",
       "`Income Range`50-60,000     `Magazine Promo`Yes        `Watch Promo`Yes \n",
       "             11.2295082              -1.7587822               3.2763466 \n",
       "    `Life Ins Promo`Yes   `Credit Card Ins.`Yes                 SexMale \n",
       "            -13.7447307               0.2248244              -6.9156909 "
      ]
     },
     "metadata": {},
     "output_type": "display_data"
    }
   ],
   "source": [
    "coefficients(reg) # model coefficients"
   ]
  },
  {
   "cell_type": "code",
   "execution_count": 8,
   "metadata": {},
   "outputs": [
    {
     "data": {
      "text/html": [
       "<table>\n",
       "<thead><tr><th></th><th scope=col>2.5 %</th><th scope=col>97.5 %</th></tr></thead>\n",
       "<tbody>\n",
       "\t<tr><th scope=row>(Intercept)</th><td> 23.573252</td><td>58.698410 </td></tr>\n",
       "\t<tr><th scope=row>`Income Range`30-40,000</th><td>-18.753558</td><td>46.978383 </td></tr>\n",
       "\t<tr><th scope=row>`Income Range`40-50,000</th><td> -5.720231</td><td>30.797514 </td></tr>\n",
       "\t<tr><th scope=row>`Income Range`50-60,000</th><td>-25.678380</td><td>48.137397 </td></tr>\n",
       "\t<tr><th scope=row>`Magazine Promo`Yes</th><td>-30.062761</td><td>26.545197 </td></tr>\n",
       "\t<tr><th scope=row>`Watch Promo`Yes</th><td>-12.548009</td><td>19.100703 </td></tr>\n",
       "\t<tr><th scope=row>`Life Ins Promo`Yes</th><td>-36.277710</td><td> 8.788249 </td></tr>\n",
       "\t<tr><th scope=row>`Credit Card Ins.`Yes</th><td>-22.677751</td><td>23.127400 </td></tr>\n",
       "\t<tr><th scope=row>SexMale</th><td>-23.591091</td><td> 9.759709 </td></tr>\n",
       "</tbody>\n",
       "</table>\n"
      ],
      "text/latex": [
       "\\begin{tabular}{r|ll}\n",
       "  & 2.5 \\% & 97.5 \\%\\\\\n",
       "\\hline\n",
       "\t(Intercept) &  23.573252 & 58.698410 \\\\\n",
       "\t`Income Range`30-40,000 & -18.753558 & 46.978383 \\\\\n",
       "\t`Income Range`40-50,000 &  -5.720231 & 30.797514 \\\\\n",
       "\t`Income Range`50-60,000 & -25.678380 & 48.137397 \\\\\n",
       "\t`Magazine Promo`Yes & -30.062761 & 26.545197 \\\\\n",
       "\t`Watch Promo`Yes & -12.548009 & 19.100703 \\\\\n",
       "\t`Life Ins Promo`Yes & -36.277710 &  8.788249 \\\\\n",
       "\t`Credit Card Ins.`Yes & -22.677751 & 23.127400 \\\\\n",
       "\tSexMale & -23.591091 &  9.759709 \\\\\n",
       "\\end{tabular}\n"
      ],
      "text/markdown": [
       "\n",
       "| <!--/--> | 2.5 % | 97.5 % | \n",
       "|---|---|---|---|---|---|---|---|---|\n",
       "| (Intercept) |  23.573252 | 58.698410  | \n",
       "| `Income Range`30-40,000 | -18.753558 | 46.978383  | \n",
       "| `Income Range`40-50,000 |  -5.720231 | 30.797514  | \n",
       "| `Income Range`50-60,000 | -25.678380 | 48.137397  | \n",
       "| `Magazine Promo`Yes | -30.062761 | 26.545197  | \n",
       "| `Watch Promo`Yes | -12.548009 | 19.100703  | \n",
       "| `Life Ins Promo`Yes | -36.277710 |  8.788249  | \n",
       "| `Credit Card Ins.`Yes | -22.677751 | 23.127400  | \n",
       "| SexMale | -23.591091 |  9.759709  | \n",
       "\n",
       "\n"
      ],
      "text/plain": [
       "                        2.5 %      97.5 %   \n",
       "(Intercept)              23.573252 58.698410\n",
       "`Income Range`30-40,000 -18.753558 46.978383\n",
       "`Income Range`40-50,000  -5.720231 30.797514\n",
       "`Income Range`50-60,000 -25.678380 48.137397\n",
       "`Magazine Promo`Yes     -30.062761 26.545197\n",
       "`Watch Promo`Yes        -12.548009 19.100703\n",
       "`Life Ins Promo`Yes     -36.277710  8.788249\n",
       "`Credit Card Ins.`Yes   -22.677751 23.127400\n",
       "SexMale                 -23.591091  9.759709"
      ]
     },
     "metadata": {},
     "output_type": "display_data"
    }
   ],
   "source": [
    "confint(reg, level=0.95) # CIonfidence intervals for model parameters "
   ]
  },
  {
   "cell_type": "code",
   "execution_count": 9,
   "metadata": {},
   "outputs": [
    {
     "data": {
      "text/html": [
       "<dl class=dl-horizontal>\n",
       "\t<dt>1</dt>\n",
       "\t\t<dd>45</dd>\n",
       "\t<dt>2</dt>\n",
       "\t\t<dd>43.0210772833724</dd>\n",
       "\t<dt>3</dt>\n",
       "\t\t<dd>46.7587822014052</dd>\n",
       "\t<dt>4</dt>\n",
       "\t\t<dd>36.3302107728337</dd>\n",
       "\t<dt>5</dt>\n",
       "\t\t<dd>36.8618266978923</dd>\n",
       "\t<dt>6</dt>\n",
       "\t\t<dd>41.135831381733</dd>\n",
       "\t<dt>7</dt>\n",
       "\t\t<dd>33.0538641686183</dd>\n",
       "\t<dt>8</dt>\n",
       "\t\t<dd>37.4964871194379</dd>\n",
       "\t<dt>9</dt>\n",
       "\t\t<dd>46.5737704918033</dd>\n",
       "\t<dt>10</dt>\n",
       "\t\t<dd>43.0210772833724</dd>\n",
       "\t<dt>11</dt>\n",
       "\t\t<dd>43.2060889929742</dd>\n",
       "\t<dt>12</dt>\n",
       "\t\t<dd>23.751756440281</dd>\n",
       "\t<dt>13</dt>\n",
       "\t\t<dd>40.1381733021077</dd>\n",
       "\t<dt>14</dt>\n",
       "\t\t<dd>50.0351288056206</dd>\n",
       "\t<dt>15</dt>\n",
       "\t\t<dd>27.615925058548</dd>\n",
       "</dl>\n"
      ],
      "text/latex": [
       "\\begin{description*}\n",
       "\\item[1] 45\n",
       "\\item[2] 43.0210772833724\n",
       "\\item[3] 46.7587822014052\n",
       "\\item[4] 36.3302107728337\n",
       "\\item[5] 36.8618266978923\n",
       "\\item[6] 41.135831381733\n",
       "\\item[7] 33.0538641686183\n",
       "\\item[8] 37.4964871194379\n",
       "\\item[9] 46.5737704918033\n",
       "\\item[10] 43.0210772833724\n",
       "\\item[11] 43.2060889929742\n",
       "\\item[12] 23.751756440281\n",
       "\\item[13] 40.1381733021077\n",
       "\\item[14] 50.0351288056206\n",
       "\\item[15] 27.615925058548\n",
       "\\end{description*}\n"
      ],
      "text/markdown": [
       "1\n",
       ":   452\n",
       ":   43.02107728337243\n",
       ":   46.75878220140524\n",
       ":   36.33021077283375\n",
       ":   36.86182669789236\n",
       ":   41.1358313817337\n",
       ":   33.05386416861838\n",
       ":   37.49648711943799\n",
       ":   46.573770491803310\n",
       ":   43.021077283372411\n",
       ":   43.206088992974212\n",
       ":   23.75175644028113\n",
       ":   40.138173302107714\n",
       ":   50.035128805620615\n",
       ":   27.615925058548\n",
       "\n"
      ],
      "text/plain": [
       "       1        2        3        4        5        6        7        8 \n",
       "45.00000 43.02108 46.75878 36.33021 36.86183 41.13583 33.05386 37.49649 \n",
       "       9       10       11       12       13       14       15 \n",
       "46.57377 43.02108 43.20609 23.75176 40.13817 50.03513 27.61593 "
      ]
     },
     "metadata": {},
     "output_type": "display_data"
    }
   ],
   "source": [
    "fitted(reg) # predicted values"
   ]
  },
  {
   "cell_type": "code",
   "execution_count": 10,
   "metadata": {},
   "outputs": [],
   "source": [
    "help(fitted)"
   ]
  },
  {
   "cell_type": "code",
   "execution_count": 12,
   "metadata": {},
   "outputs": [
    {
     "name": "stderr",
     "output_type": "stream",
     "text": [
      "Warning message:\n",
      "“not plotting observations with leverage one:\n",
      "  1”Warning message:\n",
      "“not plotting observations with leverage one:\n",
      "  1”"
     ]
    },
    {
     "data": {
      "image/png": "[encoded data removed]",
      "text/plain": [
       "Plot with title “”"
      ]
     },
     "metadata": {},
     "output_type": "display_data"
    }
   ],
   "source": [
    "layout(matrix(c(1,2,3,4),2,2)) # optional 4 graphs/page\n",
    "plot(reg)"
   ]
  },
  {
   "cell_type": "code",
   "execution_count": 13,
   "metadata": {},
   "outputs": [],
   "source": [
    "help(prcomp)"
   ]
  },
  {
   "cell_type": "code",
   "execution_count": 14,
   "metadata": {},
   "outputs": [
    {
     "data": {
      "text/html": [
       "<ol class=list-inline>\n",
       "\t<li>'Income Range'</li>\n",
       "\t<li>'Magazine Promo'</li>\n",
       "\t<li>'Watch Promo'</li>\n",
       "\t<li>'Life Ins Promo'</li>\n",
       "\t<li>'Credit Card Ins.'</li>\n",
       "\t<li>'Sex'</li>\n",
       "\t<li>'Age'</li>\n",
       "</ol>\n"
      ],
      "text/latex": [
       "\\begin{enumerate*}\n",
       "\\item 'Income Range'\n",
       "\\item 'Magazine Promo'\n",
       "\\item 'Watch Promo'\n",
       "\\item 'Life Ins Promo'\n",
       "\\item 'Credit Card Ins.'\n",
       "\\item 'Sex'\n",
       "\\item 'Age'\n",
       "\\end{enumerate*}\n"
      ],
      "text/markdown": [
       "1. 'Income Range'\n",
       "2. 'Magazine Promo'\n",
       "3. 'Watch Promo'\n",
       "4. 'Life Ins Promo'\n",
       "5. 'Credit Card Ins.'\n",
       "6. 'Sex'\n",
       "7. 'Age'\n",
       "\n",
       "\n"
      ],
      "text/plain": [
       "[1] \"Income Range\"     \"Magazine Promo\"   \"Watch Promo\"      \"Life Ins Promo\"  \n",
       "[5] \"Credit Card Ins.\" \"Sex\"              \"Age\"             "
      ]
     },
     "metadata": {},
     "output_type": "display_data"
    }
   ],
   "source": [
    "colnames(my.data)"
   ]
  },
  {
   "cell_type": "code",
   "execution_count": 21,
   "metadata": {},
   "outputs": [
    {
     "data": {
      "text/html": [
       "<ol class=list-inline>\n",
       "\t<li>'Income Range'</li>\n",
       "\t<li>'Magazine Promo'</li>\n",
       "\t<li>'Watch Promo'</li>\n",
       "\t<li>'Life Ins Promo'</li>\n",
       "\t<li>'Credit Card Ins.'</li>\n",
       "\t<li>'Sex'</li>\n",
       "</ol>\n"
      ],
      "text/latex": [
       "\\begin{enumerate*}\n",
       "\\item 'Income Range'\n",
       "\\item 'Magazine Promo'\n",
       "\\item 'Watch Promo'\n",
       "\\item 'Life Ins Promo'\n",
       "\\item 'Credit Card Ins.'\n",
       "\\item 'Sex'\n",
       "\\end{enumerate*}\n"
      ],
      "text/markdown": [
       "1. 'Income Range'\n",
       "2. 'Magazine Promo'\n",
       "3. 'Watch Promo'\n",
       "4. 'Life Ins Promo'\n",
       "5. 'Credit Card Ins.'\n",
       "6. 'Sex'\n",
       "\n",
       "\n"
      ],
      "text/plain": [
       "[1] \"Income Range\"     \"Magazine Promo\"   \"Watch Promo\"      \"Life Ins Promo\"  \n",
       "[5] \"Credit Card Ins.\" \"Sex\"             "
      ]
     },
     "metadata": {},
     "output_type": "display_data"
    }
   ],
   "source": [
    "\n",
    "X_columns = colnames(my.data)[1:6]\n",
    "X_columns"
   ]
  },
  {
   "cell_type": "code",
   "execution_count": null,
   "metadata": {},
   "outputs": [],
   "source": []
  }
 ],
 "metadata": {
  "kernelspec": {
   "display_name": "R",
   "language": "R",
   "name": "ir"
  },
  "language_info": {
   "codemirror_mode": "r",
   "file_extension": ".r",
   "mimetype": "text/x-r-source",
   "name": "R",
   "pygments_lexer": "r",
   "version": "3.4.4"
  }
 },
 "nbformat": 4,
 "nbformat_minor": 2
}
