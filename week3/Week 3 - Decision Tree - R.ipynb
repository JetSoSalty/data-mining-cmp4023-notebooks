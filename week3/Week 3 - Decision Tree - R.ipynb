{
 "cells": [
  {
   "cell_type": "markdown",
   "metadata": {},
   "source": [
    "# Data Warehousing and Data Mining\n",
    "\n",
    "## Labs\n",
    "\n",
    "### Prepared by Gilroy Gordon\n",
    "\n",
    "#### Contact Information\n",
    "\n",
    "SCIT ext. 3643\n",
    "\n",
    "ggordonutech@gmail.com\n",
    "\n",
    "gilroy.gordon@utech.edu.jm"
   ]
  },
  {
   "cell_type": "markdown",
   "metadata": {},
   "source": [
    "### Week 3 - Decision Trees in R\n",
    "\n",
    "\n",
    "Additional Reference Resources:\n",
    "\n",
    "Decision Trees: https://www.statmethods.net/advstats/cart.html\n",
    "\n",
    "Importing Different Types of Data: http://www.milanor.net/blog/read-excel-files-from-r/\n",
    "\n",
    "Party package (Partitioning Recursively) : https://cran.r-project.org/web/packages/party/party.pdf\n",
    "\n",
    "xlsx packages requires rJava : https://github.com/hannarud/r-best-practices/wiki/Installing-RJava-(Ubuntu)\n",
    "\n",
    "Objectives\n",
    "----\n",
    "---\n",
    "     \n",
    "     > Data Selection\n",
    "     > Data Preprocessing\n",
    "         > Noisy Data - Invalid Attribute Values\n",
    "         > Casewise Deletion\n",
    "     > Data Transformation\n",
    "         > Dummy Encoding\n",
    "     > Data Mining\n",
    "          > Decision Trees\n",
    "     > Model Evaluation and Prediction\n",
    "          > Train/Test Split - 70/30\n",
    "     > Presentation\n",
    "          > Tree Chart\n",
    "          > Tree Rules\n",
    "          > Confusion Matrix"
   ]
  },
  {
   "cell_type": "markdown",
   "metadata": {},
   "source": [
    "----"
   ]
  },
  {
   "cell_type": "markdown",
   "metadata": {},
   "source": [
    "## Import required libraries and acquire data\n",
    "\n",
    "NB. The data required was retrieved from the required text for this course. This should assist you in following the concepts from the book better"
   ]
  },
  {
   "cell_type": "code",
   "execution_count": 1,
   "metadata": {},
   "outputs": [],
   "source": [
    "#library(\"gdata\")"
   ]
  },
  {
   "cell_type": "code",
   "execution_count": 2,
   "metadata": {},
   "outputs": [],
   "source": [
    "data_path = './data/Creditcardprom.xls' # Path to data file\n",
    "my.data =  read.csv('./data/Creditcardprom.csv',header=TRUE,check.names=FALSE) # read data from the first sheet "
   ]
  },
  {
   "cell_type": "code",
   "execution_count": 3,
   "metadata": {},
   "outputs": [
    {
     "data": {
      "text/html": [
       "<table>\n",
       "<thead><tr><th scope=col>Income Range</th><th scope=col>Magazine Promo</th><th scope=col>Watch Promo</th><th scope=col>Life Ins Promo</th><th scope=col>Credit Card Ins.</th><th scope=col>Sex</th><th scope=col>Age</th></tr></thead>\n",
       "<tbody>\n",
       "\t<tr><td>40-50,000</td><td>Yes      </td><td>No       </td><td>No       </td><td>No       </td><td>Male     </td><td>45       </td></tr>\n",
       "\t<tr><td>30-40,000</td><td>Yes      </td><td>Yes      </td><td>Yes      </td><td>No       </td><td>Female   </td><td>40       </td></tr>\n",
       "\t<tr><td>40-50,000</td><td>No       </td><td>No       </td><td>No       </td><td>No       </td><td>Male     </td><td>42       </td></tr>\n",
       "\t<tr><td>30-40,000</td><td>Yes      </td><td>Yes      </td><td>Yes      </td><td>Yes      </td><td>Male     </td><td>43       </td></tr>\n",
       "\t<tr><td>50-60,000</td><td>Yes      </td><td>No       </td><td>Yes      </td><td>No       </td><td>Female   </td><td>38       </td></tr>\n",
       "\t<tr><td>20-30,000</td><td>No       </td><td>No       </td><td>No       </td><td>No       </td><td>Female   </td><td>55       </td></tr>\n",
       "\t<tr><td>30-40,000</td><td>Yes      </td><td>No       </td><td>Yes      </td><td>Yes      </td><td>Male     </td><td>35       </td></tr>\n",
       "\t<tr><td>20-30,000</td><td>No       </td><td>Yes      </td><td>No       </td><td>No       </td><td>Male     </td><td>27       </td></tr>\n",
       "\t<tr><td>30-40,000</td><td>Yes      </td><td>No       </td><td>No       </td><td>No       </td><td>Male     </td><td>43       </td></tr>\n",
       "\t<tr><td>30-40,000</td><td>Yes      </td><td>Yes      </td><td>Yes      </td><td>No       </td><td>Female   </td><td>41       </td></tr>\n",
       "\t<tr><td>40-50,000</td><td>No       </td><td>Yes      </td><td>Yes      </td><td>No       </td><td>Female   </td><td>43       </td></tr>\n",
       "\t<tr><td>20-30,000</td><td>No       </td><td>Yes      </td><td>Yes      </td><td>No       </td><td>Male     </td><td>29       </td></tr>\n",
       "\t<tr><td>50-60,000</td><td>Yes      </td><td>Yes      </td><td>Yes      </td><td>No       </td><td>Female   </td><td>39       </td></tr>\n",
       "\t<tr><td>40-50,000</td><td>No       </td><td>Yes      </td><td>No       </td><td>No       </td><td>Male     </td><td>55       </td></tr>\n",
       "\t<tr><td>20-30,000</td><td>No       </td><td>No       </td><td>Yes      </td><td>Yes      </td><td>Female   </td><td>19       </td></tr>\n",
       "</tbody>\n",
       "</table>\n"
      ],
      "text/latex": [
       "\\begin{tabular}{r|lllllll}\n",
       " Income Range & Magazine Promo & Watch Promo & Life Ins Promo & Credit Card Ins. & Sex & Age\\\\\n",
       "\\hline\n",
       "\t 40-50,000 & Yes       & No        & No        & No        & Male      & 45       \\\\\n",
       "\t 30-40,000 & Yes       & Yes       & Yes       & No        & Female    & 40       \\\\\n",
       "\t 40-50,000 & No        & No        & No        & No        & Male      & 42       \\\\\n",
       "\t 30-40,000 & Yes       & Yes       & Yes       & Yes       & Male      & 43       \\\\\n",
       "\t 50-60,000 & Yes       & No        & Yes       & No        & Female    & 38       \\\\\n",
       "\t 20-30,000 & No        & No        & No        & No        & Female    & 55       \\\\\n",
       "\t 30-40,000 & Yes       & No        & Yes       & Yes       & Male      & 35       \\\\\n",
       "\t 20-30,000 & No        & Yes       & No        & No        & Male      & 27       \\\\\n",
       "\t 30-40,000 & Yes       & No        & No        & No        & Male      & 43       \\\\\n",
       "\t 30-40,000 & Yes       & Yes       & Yes       & No        & Female    & 41       \\\\\n",
       "\t 40-50,000 & No        & Yes       & Yes       & No        & Female    & 43       \\\\\n",
       "\t 20-30,000 & No        & Yes       & Yes       & No        & Male      & 29       \\\\\n",
       "\t 50-60,000 & Yes       & Yes       & Yes       & No        & Female    & 39       \\\\\n",
       "\t 40-50,000 & No        & Yes       & No        & No        & Male      & 55       \\\\\n",
       "\t 20-30,000 & No        & No        & Yes       & Yes       & Female    & 19       \\\\\n",
       "\\end{tabular}\n"
      ],
      "text/markdown": [
       "\n",
       "Income Range | Magazine Promo | Watch Promo | Life Ins Promo | Credit Card Ins. | Sex | Age | \n",
       "|---|---|---|---|---|---|---|---|---|---|---|---|---|---|---|\n",
       "| 40-50,000 | Yes       | No        | No        | No        | Male      | 45        | \n",
       "| 30-40,000 | Yes       | Yes       | Yes       | No        | Female    | 40        | \n",
       "| 40-50,000 | No        | No        | No        | No        | Male      | 42        | \n",
       "| 30-40,000 | Yes       | Yes       | Yes       | Yes       | Male      | 43        | \n",
       "| 50-60,000 | Yes       | No        | Yes       | No        | Female    | 38        | \n",
       "| 20-30,000 | No        | No        | No        | No        | Female    | 55        | \n",
       "| 30-40,000 | Yes       | No        | Yes       | Yes       | Male      | 35        | \n",
       "| 20-30,000 | No        | Yes       | No        | No        | Male      | 27        | \n",
       "| 30-40,000 | Yes       | No        | No        | No        | Male      | 43        | \n",
       "| 30-40,000 | Yes       | Yes       | Yes       | No        | Female    | 41        | \n",
       "| 40-50,000 | No        | Yes       | Yes       | No        | Female    | 43        | \n",
       "| 20-30,000 | No        | Yes       | Yes       | No        | Male      | 29        | \n",
       "| 50-60,000 | Yes       | Yes       | Yes       | No        | Female    | 39        | \n",
       "| 40-50,000 | No        | Yes       | No        | No        | Male      | 55        | \n",
       "| 20-30,000 | No        | No        | Yes       | Yes       | Female    | 19        | \n",
       "\n",
       "\n"
      ],
      "text/plain": [
       "   Income Range Magazine Promo Watch Promo Life Ins Promo Credit Card Ins.\n",
       "1  40-50,000    Yes            No          No             No              \n",
       "2  30-40,000    Yes            Yes         Yes            No              \n",
       "3  40-50,000    No             No          No             No              \n",
       "4  30-40,000    Yes            Yes         Yes            Yes             \n",
       "5  50-60,000    Yes            No          Yes            No              \n",
       "6  20-30,000    No             No          No             No              \n",
       "7  30-40,000    Yes            No          Yes            Yes             \n",
       "8  20-30,000    No             Yes         No             No              \n",
       "9  30-40,000    Yes            No          No             No              \n",
       "10 30-40,000    Yes            Yes         Yes            No              \n",
       "11 40-50,000    No             Yes         Yes            No              \n",
       "12 20-30,000    No             Yes         Yes            No              \n",
       "13 50-60,000    Yes            Yes         Yes            No              \n",
       "14 40-50,000    No             Yes         No             No              \n",
       "15 20-30,000    No             No          Yes            Yes             \n",
       "   Sex    Age\n",
       "1  Male   45 \n",
       "2  Female 40 \n",
       "3  Male   42 \n",
       "4  Male   43 \n",
       "5  Female 38 \n",
       "6  Female 55 \n",
       "7  Male   35 \n",
       "8  Male   27 \n",
       "9  Male   43 \n",
       "10 Female 41 \n",
       "11 Female 43 \n",
       "12 Male   29 \n",
       "13 Female 39 \n",
       "14 Male   55 \n",
       "15 Female 19 "
      ]
     },
     "metadata": {},
     "output_type": "display_data"
    }
   ],
   "source": [
    "#view the data\n",
    "my.data "
   ]
  },
  {
   "cell_type": "code",
   "execution_count": 4,
   "metadata": {},
   "outputs": [
    {
     "data": {
      "text/html": [
       "<ol class=list-inline>\n",
       "\t<li>'Income Range'</li>\n",
       "\t<li>'Magazine Promo'</li>\n",
       "\t<li>'Watch Promo'</li>\n",
       "\t<li>'Life Ins Promo'</li>\n",
       "\t<li>'Credit Card Ins.'</li>\n",
       "\t<li>'Sex'</li>\n",
       "\t<li>'Age'</li>\n",
       "</ol>\n"
      ],
      "text/latex": [
       "\\begin{enumerate*}\n",
       "\\item 'Income Range'\n",
       "\\item 'Magazine Promo'\n",
       "\\item 'Watch Promo'\n",
       "\\item 'Life Ins Promo'\n",
       "\\item 'Credit Card Ins.'\n",
       "\\item 'Sex'\n",
       "\\item 'Age'\n",
       "\\end{enumerate*}\n"
      ],
      "text/markdown": [
       "1. 'Income Range'\n",
       "2. 'Magazine Promo'\n",
       "3. 'Watch Promo'\n",
       "4. 'Life Ins Promo'\n",
       "5. 'Credit Card Ins.'\n",
       "6. 'Sex'\n",
       "7. 'Age'\n",
       "\n",
       "\n"
      ],
      "text/plain": [
       "[1] \"Income Range\"     \"Magazine Promo\"   \"Watch Promo\"      \"Life Ins Promo\"  \n",
       "[5] \"Credit Card Ins.\" \"Sex\"              \"Age\"             "
      ]
     },
     "metadata": {},
     "output_type": "display_data"
    }
   ],
   "source": [
    "# What columns are in the data set ? Do they have spaces that I should consider\n",
    "colnames(my.data) "
   ]
  },
  {
   "cell_type": "code",
   "execution_count": 5,
   "metadata": {},
   "outputs": [
    {
     "data": {
      "text/html": [
       "<table>\n",
       "<thead><tr><th></th><th scope=col>Income Range</th><th scope=col>Magazine Promo</th><th scope=col>Watch Promo</th><th scope=col>Life Ins Promo</th><th scope=col>Credit Card Ins.</th><th scope=col>Sex</th><th scope=col>Age</th></tr></thead>\n",
       "<tbody>\n",
       "\t<tr><th scope=row>2</th><td>30-40,000</td><td>Yes      </td><td>Yes      </td><td>Yes      </td><td>No       </td><td>Female   </td><td>40       </td></tr>\n",
       "\t<tr><th scope=row>3</th><td>40-50,000</td><td>No       </td><td>No       </td><td>No       </td><td>No       </td><td>Male     </td><td>42       </td></tr>\n",
       "\t<tr><th scope=row>4</th><td>30-40,000</td><td>Yes      </td><td>Yes      </td><td>Yes      </td><td>Yes      </td><td>Male     </td><td>43       </td></tr>\n",
       "\t<tr><th scope=row>5</th><td>50-60,000</td><td>Yes      </td><td>No       </td><td>Yes      </td><td>No       </td><td>Female   </td><td>38       </td></tr>\n",
       "\t<tr><th scope=row>6</th><td>20-30,000</td><td>No       </td><td>No       </td><td>No       </td><td>No       </td><td>Female   </td><td>55       </td></tr>\n",
       "\t<tr><th scope=row>7</th><td>30-40,000</td><td>Yes      </td><td>No       </td><td>Yes      </td><td>Yes      </td><td>Male     </td><td>35       </td></tr>\n",
       "\t<tr><th scope=row>8</th><td>20-30,000</td><td>No       </td><td>Yes      </td><td>No       </td><td>No       </td><td>Male     </td><td>27       </td></tr>\n",
       "\t<tr><th scope=row>9</th><td>30-40,000</td><td>Yes      </td><td>No       </td><td>No       </td><td>No       </td><td>Male     </td><td>43       </td></tr>\n",
       "\t<tr><th scope=row>10</th><td>30-40,000</td><td>Yes      </td><td>Yes      </td><td>Yes      </td><td>No       </td><td>Female   </td><td>41       </td></tr>\n",
       "\t<tr><th scope=row>11</th><td>40-50,000</td><td>No       </td><td>Yes      </td><td>Yes      </td><td>No       </td><td>Female   </td><td>43       </td></tr>\n",
       "\t<tr><th scope=row>12</th><td>20-30,000</td><td>No       </td><td>Yes      </td><td>Yes      </td><td>No       </td><td>Male     </td><td>29       </td></tr>\n",
       "\t<tr><th scope=row>13</th><td>50-60,000</td><td>Yes      </td><td>Yes      </td><td>Yes      </td><td>No       </td><td>Female   </td><td>39       </td></tr>\n",
       "\t<tr><th scope=row>14</th><td>40-50,000</td><td>No       </td><td>Yes      </td><td>No       </td><td>No       </td><td>Male     </td><td>55       </td></tr>\n",
       "\t<tr><th scope=row>15</th><td>20-30,000</td><td>No       </td><td>No       </td><td>Yes      </td><td>Yes      </td><td>Female   </td><td>19       </td></tr>\n",
       "</tbody>\n",
       "</table>\n"
      ],
      "text/latex": [
       "\\begin{tabular}{r|lllllll}\n",
       "  & Income Range & Magazine Promo & Watch Promo & Life Ins Promo & Credit Card Ins. & Sex & Age\\\\\n",
       "\\hline\n",
       "\t2 & 30-40,000 & Yes       & Yes       & Yes       & No        & Female    & 40       \\\\\n",
       "\t3 & 40-50,000 & No        & No        & No        & No        & Male      & 42       \\\\\n",
       "\t4 & 30-40,000 & Yes       & Yes       & Yes       & Yes       & Male      & 43       \\\\\n",
       "\t5 & 50-60,000 & Yes       & No        & Yes       & No        & Female    & 38       \\\\\n",
       "\t6 & 20-30,000 & No        & No        & No        & No        & Female    & 55       \\\\\n",
       "\t7 & 30-40,000 & Yes       & No        & Yes       & Yes       & Male      & 35       \\\\\n",
       "\t8 & 20-30,000 & No        & Yes       & No        & No        & Male      & 27       \\\\\n",
       "\t9 & 30-40,000 & Yes       & No        & No        & No        & Male      & 43       \\\\\n",
       "\t10 & 30-40,000 & Yes       & Yes       & Yes       & No        & Female    & 41       \\\\\n",
       "\t11 & 40-50,000 & No        & Yes       & Yes       & No        & Female    & 43       \\\\\n",
       "\t12 & 20-30,000 & No        & Yes       & Yes       & No        & Male      & 29       \\\\\n",
       "\t13 & 50-60,000 & Yes       & Yes       & Yes       & No        & Female    & 39       \\\\\n",
       "\t14 & 40-50,000 & No        & Yes       & No        & No        & Male      & 55       \\\\\n",
       "\t15 & 20-30,000 & No        & No        & Yes       & Yes       & Female    & 19       \\\\\n",
       "\\end{tabular}\n"
      ],
      "text/markdown": [
       "\n",
       "| <!--/--> | Income Range | Magazine Promo | Watch Promo | Life Ins Promo | Credit Card Ins. | Sex | Age | \n",
       "|---|---|---|---|---|---|---|---|---|---|---|---|---|---|\n",
       "| 2 | 30-40,000 | Yes       | Yes       | Yes       | No        | Female    | 40        | \n",
       "| 3 | 40-50,000 | No        | No        | No        | No        | Male      | 42        | \n",
       "| 4 | 30-40,000 | Yes       | Yes       | Yes       | Yes       | Male      | 43        | \n",
       "| 5 | 50-60,000 | Yes       | No        | Yes       | No        | Female    | 38        | \n",
       "| 6 | 20-30,000 | No        | No        | No        | No        | Female    | 55        | \n",
       "| 7 | 30-40,000 | Yes       | No        | Yes       | Yes       | Male      | 35        | \n",
       "| 8 | 20-30,000 | No        | Yes       | No        | No        | Male      | 27        | \n",
       "| 9 | 30-40,000 | Yes       | No        | No        | No        | Male      | 43        | \n",
       "| 10 | 30-40,000 | Yes       | Yes       | Yes       | No        | Female    | 41        | \n",
       "| 11 | 40-50,000 | No        | Yes       | Yes       | No        | Female    | 43        | \n",
       "| 12 | 20-30,000 | No        | Yes       | Yes       | No        | Male      | 29        | \n",
       "| 13 | 50-60,000 | Yes       | Yes       | Yes       | No        | Female    | 39        | \n",
       "| 14 | 40-50,000 | No        | Yes       | No        | No        | Male      | 55        | \n",
       "| 15 | 20-30,000 | No        | No        | Yes       | Yes       | Female    | 19        | \n",
       "\n",
       "\n"
      ],
      "text/plain": [
       "   Income Range Magazine Promo Watch Promo Life Ins Promo Credit Card Ins.\n",
       "2  30-40,000    Yes            Yes         Yes            No              \n",
       "3  40-50,000    No             No          No             No              \n",
       "4  30-40,000    Yes            Yes         Yes            Yes             \n",
       "5  50-60,000    Yes            No          Yes            No              \n",
       "6  20-30,000    No             No          No             No              \n",
       "7  30-40,000    Yes            No          Yes            Yes             \n",
       "8  20-30,000    No             Yes         No             No              \n",
       "9  30-40,000    Yes            No          No             No              \n",
       "10 30-40,000    Yes            Yes         Yes            No              \n",
       "11 40-50,000    No             Yes         Yes            No              \n",
       "12 20-30,000    No             Yes         Yes            No              \n",
       "13 50-60,000    Yes            Yes         Yes            No              \n",
       "14 40-50,000    No             Yes         No             No              \n",
       "15 20-30,000    No             No          Yes            Yes             \n",
       "   Sex    Age\n",
       "2  Female 40 \n",
       "3  Male   42 \n",
       "4  Male   43 \n",
       "5  Female 38 \n",
       "6  Female 55 \n",
       "7  Male   35 \n",
       "8  Male   27 \n",
       "9  Male   43 \n",
       "10 Female 41 \n",
       "11 Female 43 \n",
       "12 Male   29 \n",
       "13 Female 39 \n",
       "14 Male   55 \n",
       "15 Female 19 "
      ]
     },
     "metadata": {},
     "output_type": "display_data"
    }
   ],
   "source": [
    "# The first two(2) rows have invalid data. Let us perform casewise deletion to remove these rows from the data set\n",
    "my.data = my.data[-c(0,1), ] # dropping items 0 and 1 from axis 0 or the x axis (rows)\n",
    "# NB. The \"-\" sign used to request the complement of the data\n",
    "my.data #viewing data"
   ]
  },
  {
   "cell_type": "code",
   "execution_count": 6,
   "metadata": {},
   "outputs": [
    {
     "data": {
      "text/html": [
       "<table>\n",
       "<thead><tr><th></th><th scope=col>Income Range</th><th scope=col>Sex</th><th scope=col>Age</th><th scope=col>Watch Promo</th><th scope=col>Life Ins Promo</th></tr></thead>\n",
       "<tbody>\n",
       "\t<tr><th scope=row>2</th><td>30-40,000</td><td>Female   </td><td>40       </td><td>Yes      </td><td>Yes      </td></tr>\n",
       "\t<tr><th scope=row>3</th><td>40-50,000</td><td>Male     </td><td>42       </td><td>No       </td><td>No       </td></tr>\n",
       "\t<tr><th scope=row>4</th><td>30-40,000</td><td>Male     </td><td>43       </td><td>Yes      </td><td>Yes      </td></tr>\n",
       "\t<tr><th scope=row>5</th><td>50-60,000</td><td>Female   </td><td>38       </td><td>No       </td><td>Yes      </td></tr>\n",
       "\t<tr><th scope=row>6</th><td>20-30,000</td><td>Female   </td><td>55       </td><td>No       </td><td>No       </td></tr>\n",
       "\t<tr><th scope=row>7</th><td>30-40,000</td><td>Male     </td><td>35       </td><td>No       </td><td>Yes      </td></tr>\n",
       "\t<tr><th scope=row>8</th><td>20-30,000</td><td>Male     </td><td>27       </td><td>Yes      </td><td>No       </td></tr>\n",
       "\t<tr><th scope=row>9</th><td>30-40,000</td><td>Male     </td><td>43       </td><td>No       </td><td>No       </td></tr>\n",
       "\t<tr><th scope=row>10</th><td>30-40,000</td><td>Female   </td><td>41       </td><td>Yes      </td><td>Yes      </td></tr>\n",
       "\t<tr><th scope=row>11</th><td>40-50,000</td><td>Female   </td><td>43       </td><td>Yes      </td><td>Yes      </td></tr>\n",
       "\t<tr><th scope=row>12</th><td>20-30,000</td><td>Male     </td><td>29       </td><td>Yes      </td><td>Yes      </td></tr>\n",
       "\t<tr><th scope=row>13</th><td>50-60,000</td><td>Female   </td><td>39       </td><td>Yes      </td><td>Yes      </td></tr>\n",
       "\t<tr><th scope=row>14</th><td>40-50,000</td><td>Male     </td><td>55       </td><td>Yes      </td><td>No       </td></tr>\n",
       "\t<tr><th scope=row>15</th><td>20-30,000</td><td>Female   </td><td>19       </td><td>No       </td><td>Yes      </td></tr>\n",
       "</tbody>\n",
       "</table>\n"
      ],
      "text/latex": [
       "\\begin{tabular}{r|lllll}\n",
       "  & Income Range & Sex & Age & Watch Promo & Life Ins Promo\\\\\n",
       "\\hline\n",
       "\t2 & 30-40,000 & Female    & 40        & Yes       & Yes      \\\\\n",
       "\t3 & 40-50,000 & Male      & 42        & No        & No       \\\\\n",
       "\t4 & 30-40,000 & Male      & 43        & Yes       & Yes      \\\\\n",
       "\t5 & 50-60,000 & Female    & 38        & No        & Yes      \\\\\n",
       "\t6 & 20-30,000 & Female    & 55        & No        & No       \\\\\n",
       "\t7 & 30-40,000 & Male      & 35        & No        & Yes      \\\\\n",
       "\t8 & 20-30,000 & Male      & 27        & Yes       & No       \\\\\n",
       "\t9 & 30-40,000 & Male      & 43        & No        & No       \\\\\n",
       "\t10 & 30-40,000 & Female    & 41        & Yes       & Yes      \\\\\n",
       "\t11 & 40-50,000 & Female    & 43        & Yes       & Yes      \\\\\n",
       "\t12 & 20-30,000 & Male      & 29        & Yes       & Yes      \\\\\n",
       "\t13 & 50-60,000 & Female    & 39        & Yes       & Yes      \\\\\n",
       "\t14 & 40-50,000 & Male      & 55        & Yes       & No       \\\\\n",
       "\t15 & 20-30,000 & Female    & 19        & No        & Yes      \\\\\n",
       "\\end{tabular}\n"
      ],
      "text/markdown": [
       "\n",
       "| <!--/--> | Income Range | Sex | Age | Watch Promo | Life Ins Promo | \n",
       "|---|---|---|---|---|---|---|---|---|---|---|---|---|---|\n",
       "| 2 | 30-40,000 | Female    | 40        | Yes       | Yes       | \n",
       "| 3 | 40-50,000 | Male      | 42        | No        | No        | \n",
       "| 4 | 30-40,000 | Male      | 43        | Yes       | Yes       | \n",
       "| 5 | 50-60,000 | Female    | 38        | No        | Yes       | \n",
       "| 6 | 20-30,000 | Female    | 55        | No        | No        | \n",
       "| 7 | 30-40,000 | Male      | 35        | No        | Yes       | \n",
       "| 8 | 20-30,000 | Male      | 27        | Yes       | No        | \n",
       "| 9 | 30-40,000 | Male      | 43        | No        | No        | \n",
       "| 10 | 30-40,000 | Female    | 41        | Yes       | Yes       | \n",
       "| 11 | 40-50,000 | Female    | 43        | Yes       | Yes       | \n",
       "| 12 | 20-30,000 | Male      | 29        | Yes       | Yes       | \n",
       "| 13 | 50-60,000 | Female    | 39        | Yes       | Yes       | \n",
       "| 14 | 40-50,000 | Male      | 55        | Yes       | No        | \n",
       "| 15 | 20-30,000 | Female    | 19        | No        | Yes       | \n",
       "\n",
       "\n"
      ],
      "text/plain": [
       "   Income Range Sex    Age Watch Promo Life Ins Promo\n",
       "2  30-40,000    Female 40  Yes         Yes           \n",
       "3  40-50,000    Male   42  No          No            \n",
       "4  30-40,000    Male   43  Yes         Yes           \n",
       "5  50-60,000    Female 38  No          Yes           \n",
       "6  20-30,000    Female 55  No          No            \n",
       "7  30-40,000    Male   35  No          Yes           \n",
       "8  20-30,000    Male   27  Yes         No            \n",
       "9  30-40,000    Male   43  No          No            \n",
       "10 30-40,000    Female 41  Yes         Yes           \n",
       "11 40-50,000    Female 43  Yes         Yes           \n",
       "12 20-30,000    Male   29  Yes         Yes           \n",
       "13 50-60,000    Female 39  Yes         Yes           \n",
       "14 40-50,000    Male   55  Yes         No            \n",
       "15 20-30,000    Female 19  No          Yes           "
      ]
     },
     "metadata": {},
     "output_type": "display_data"
    }
   ],
   "source": [
    "# We are only interested in a few columns\n",
    "# extracting only sex, age and income,range, watch promo and life insurance promo\n",
    "data2 = my.data[c('Income Range','Sex','Age', 'Watch Promo', 'Life Ins Promo')]\n",
    "data2"
   ]
  },
  {
   "cell_type": "markdown",
   "metadata": {},
   "source": [
    "## Aim : Use a decision tree to identify suitable rules for a Life Ins Promo"
   ]
  },
  {
   "cell_type": "code",
   "execution_count": 7,
   "metadata": {},
   "outputs": [],
   "source": [
    "# separate our data into dependent (Y) and independent(X) variables\n",
    "X_data = data2[c('Income Range','Sex','Age', 'Watch Promo')]\n",
    "Y_data = data2[c('Life Ins Promo')]"
   ]
  },
  {
   "cell_type": "markdown",
   "metadata": {},
   "source": [
    "## 70/30 Train Test Split\n",
    "\n",
    "We will split the data using a 70/30 split. i.e. 70% of the data will be randomly chosen to train the model\n",
    "and 30% will be used to evaluate the model"
   ]
  },
  {
   "cell_type": "code",
   "execution_count": 8,
   "metadata": {},
   "outputs": [
    {
     "name": "stderr",
     "output_type": "stream",
     "text": [
      "Loading required package: caTools\n"
     ]
    }
   ],
   "source": [
    "require(caTools)  # loading caTools library"
   ]
  },
  {
   "cell_type": "code",
   "execution_count": 9,
   "metadata": {},
   "outputs": [],
   "source": [
    "set.seed(400)   #  set seed to ensure you always have same random numbers generated\n",
    "# splits the data in the ratio mentioned in SplitRatio. After splitting marks these rows as logical TRUE and the the remaining are marked as logical FALSE\n",
    "sample = sample.split(X_data,SplitRatio = 0.70) \n",
    "# creates a training dataset named train1 with rows which are marked as TRUE\n",
    "X_train=subset(X_data,sample ==TRUE) \n",
    "X_test =subset(X_data, sample==FALSE)\n",
    "y_train=subset(Y_data,sample ==TRUE) \n",
    "y_test =subset(Y_data, sample==FALSE)\n",
    "\n",
    "# The package we will use in R will not require that we split the independent and dependent variables however\n",
    "\n",
    "train = subset(data2,sample=TRUE)\n",
    "test = subset(data2,sample=FALSE)"
   ]
  },
  {
   "cell_type": "markdown",
   "metadata": {},
   "source": [
    "## Building the Decision Tree"
   ]
  },
  {
   "cell_type": "code",
   "execution_count": 10,
   "metadata": {},
   "outputs": [],
   "source": [
    "library(rpart)"
   ]
  },
  {
   "cell_type": "code",
   "execution_count": 11,
   "metadata": {},
   "outputs": [],
   "source": [
    "# Build the classifier  by training it on all the data, rpart has cross validation built in\n",
    "clf <- rpart(\"`Life Ins Promo` ~ `Income Range` + `Sex` + `Age` + `Watch Promo`\",\n",
    "   method=\"class\",data=train,control=rpart.control(minsplit=2)) # method class is used because dependent is caegorical"
   ]
  },
  {
   "cell_type": "markdown",
   "metadata": {},
   "source": [
    "## Describing the tree and visualizations"
   ]
  },
  {
   "cell_type": "code",
   "execution_count": 12,
   "metadata": {},
   "outputs": [
    {
     "data": {
      "image/png": "[encoded data removed]",
      "text/plain": [
       "plot without title"
      ]
     },
     "metadata": {},
     "output_type": "display_data"
    }
   ],
   "source": [
    "plotcp(clf) # visualize cross-validation results "
   ]
  },
  {
   "cell_type": "code",
   "execution_count": 13,
   "metadata": {},
   "outputs": [
    {
     "data": {
      "image/png": "[encoded data removed]",
      "text/plain": [
       "Plot with title “Classification Tree for Life Insurance Promotion”"
      ]
     },
     "metadata": {},
     "output_type": "display_data"
    }
   ],
   "source": [
    "# plot tree\n",
    "plot(clf, uniform=TRUE,\n",
    "   main=\"Classification Tree for Life Insurance Promotion\")\n",
    "text(clf, use.n=TRUE, all=TRUE, cex=.8)"
   ]
  },
  {
   "cell_type": "code",
   "execution_count": 14,
   "metadata": {},
   "outputs": [
    {
     "data": {
      "image/png": "[encoded data removed]",
      "text/plain": [
       "plot without title"
      ]
     },
     "metadata": {},
     "output_type": "display_data"
    }
   ],
   "source": [
    "library(rpart)\n",
    "library(rpart.plot)\n",
    "rpart.plot(clf, # please see help(rpart.plot)\n",
    "type=4,\n",
    "extra=101, \n",
    "box.palette=\"GnBu\",\n",
    "branch.lty=3, \n",
    "shadow.col=\"gray\", \n",
    "nn=TRUE\n",
    ")"
   ]
  },
  {
   "cell_type": "code",
   "execution_count": 15,
   "metadata": {},
   "outputs": [],
   "source": [
    "help(rpart.plot)"
   ]
  },
  {
   "cell_type": "code",
   "execution_count": 16,
   "metadata": {},
   "outputs": [
    {
     "name": "stdout",
     "output_type": "stream",
     "text": [
      "Call:\n",
      "rpart(formula = \"`Life Ins Promo` ~ `Income Range` + `Sex` + `Age` + `Watch Promo`\", \n",
      "    data = train, method = \"class\", control = rpart.control(minsplit = 2))\n",
      "  n= 14 \n",
      "\n",
      "    CP nsplit rel error xerror      xstd\n",
      "1 0.40      0       1.0    1.0 0.3585686\n",
      "2 0.20      1       0.6    1.4 0.3741657\n",
      "3 0.10      3       0.2    1.6 0.3703280\n",
      "4 0.01      5       0.0    1.4 0.3741657\n",
      "\n",
      "Variable importance\n",
      "         Age Income Range          Sex  Watch Promo \n",
      "          50           18           16           16 \n",
      "\n",
      "Node number 1: 14 observations,    complexity param=0.4\n",
      "  predicted class=Yes  expected loss=0.3571429  P(node) =1\n",
      "    class counts:     5     9\n",
      "   probabilities: 0.357 0.643 \n",
      "  left son=2 (6 obs) right son=3 (8 obs)\n",
      "  Primary splits:\n",
      "      Age          < 41.5 to the right, improve=2.0119050, (0 missing)\n",
      "      Income Range splits as  LRLR,     improve=1.2857140, (0 missing)\n",
      "      Sex          splits as  RL,       improve=1.2857140, (0 missing)\n",
      "      Watch Promo  splits as  LR,       improve=0.4285714, (0 missing)\n",
      "  Surrogate splits:\n",
      "      Income Range splits as  RRLR, agree=0.786, adj=0.500, (0 split)\n",
      "      Sex          splits as  RL,   agree=0.643, adj=0.167, (0 split)\n",
      "\n",
      "Node number 2: 6 observations,    complexity param=0.2\n",
      "  predicted class=No   expected loss=0.3333333  P(node) =0.4285714\n",
      "    class counts:     4     2\n",
      "   probabilities: 0.667 0.333 \n",
      "  left son=4 (3 obs) right son=5 (3 obs)\n",
      "  Primary splits:\n",
      "      Watch Promo  splits as  LR,       improve=1.3333330, (0 missing)\n",
      "      Age          < 49   to the right, improve=0.6666667, (0 missing)\n",
      "      Income Range splits as  LRR-,     improve=0.2666667, (0 missing)\n",
      "      Sex          splits as  RL,       improve=0.1666667, (0 missing)\n",
      "  Surrogate splits:\n",
      "      Income Range splits as  LRR-, agree=0.667, adj=0.333, (0 split)\n",
      "\n",
      "Node number 3: 8 observations,    complexity param=0.1\n",
      "  predicted class=Yes  expected loss=0.125  P(node) =0.5714286\n",
      "    class counts:     1     7\n",
      "   probabilities: 0.125 0.875 \n",
      "  left son=6 (2 obs) right son=7 (6 obs)\n",
      "  Primary splits:\n",
      "      Age          < 28   to the left,  improve=0.7500000, (0 missing)\n",
      "      Income Range splits as  LR-R,     improve=0.4166667, (0 missing)\n",
      "      Sex          splits as  RL,       improve=0.4166667, (0 missing)\n",
      "      Watch Promo  splits as  RL,       improve=0.1500000, (0 missing)\n",
      "\n",
      "Node number 4: 3 observations\n",
      "  predicted class=No   expected loss=0  P(node) =0.2142857\n",
      "    class counts:     3     0\n",
      "   probabilities: 1.000 0.000 \n",
      "\n",
      "Node number 5: 3 observations,    complexity param=0.2\n",
      "  predicted class=Yes  expected loss=0.3333333  P(node) =0.2142857\n",
      "    class counts:     1     2\n",
      "   probabilities: 0.333 0.667 \n",
      "  left son=10 (1 obs) right son=11 (2 obs)\n",
      "  Primary splits:\n",
      "      Age          < 49   to the right, improve=1.3333330, (0 missing)\n",
      "      Income Range splits as  -RL-,     improve=0.3333333, (0 missing)\n",
      "      Sex          splits as  RL,       improve=0.3333333, (0 missing)\n",
      "\n",
      "Node number 6: 2 observations,    complexity param=0.1\n",
      "  predicted class=No   expected loss=0.5  P(node) =0.1428571\n",
      "    class counts:     1     1\n",
      "   probabilities: 0.500 0.500 \n",
      "  left son=12 (1 obs) right son=13 (1 obs)\n",
      "  Primary splits:\n",
      "      Sex         splits as  RL,       improve=1, (0 missing)\n",
      "      Age         < 23   to the right, improve=1, (0 missing)\n",
      "      Watch Promo splits as  RL,       improve=1, (0 missing)\n",
      "\n",
      "Node number 7: 6 observations\n",
      "  predicted class=Yes  expected loss=0  P(node) =0.4285714\n",
      "    class counts:     0     6\n",
      "   probabilities: 0.000 1.000 \n",
      "\n",
      "Node number 10: 1 observations\n",
      "  predicted class=No   expected loss=0  P(node) =0.07142857\n",
      "    class counts:     1     0\n",
      "   probabilities: 1.000 0.000 \n",
      "\n",
      "Node number 11: 2 observations\n",
      "  predicted class=Yes  expected loss=0  P(node) =0.1428571\n",
      "    class counts:     0     2\n",
      "   probabilities: 0.000 1.000 \n",
      "\n",
      "Node number 12: 1 observations\n",
      "  predicted class=No   expected loss=0  P(node) =0.07142857\n",
      "    class counts:     1     0\n",
      "   probabilities: 1.000 0.000 \n",
      "\n",
      "Node number 13: 1 observations\n",
      "  predicted class=Yes  expected loss=0  P(node) =0.07142857\n",
      "    class counts:     0     1\n",
      "   probabilities: 0.000 1.000 \n",
      "\n"
     ]
    }
   ],
   "source": [
    "summary(clf) # display the results "
   ]
  },
  {
   "cell_type": "code",
   "execution_count": null,
   "metadata": {},
   "outputs": [],
   "source": []
  },
  {
   "cell_type": "code",
   "execution_count": null,
   "metadata": {},
   "outputs": [],
   "source": []
  }
 ],
 "metadata": {
  "kernelspec": {
   "display_name": "R",
   "language": "R",
   "name": "ir"
  },
  "language_info": {
   "codemirror_mode": "r",
   "file_extension": ".r",
   "mimetype": "text/x-r-source",
   "name": "R",
   "pygments_lexer": "r",
   "version": "3.4.4"
  }
 },
 "nbformat": 4,
 "nbformat_minor": 2
}
